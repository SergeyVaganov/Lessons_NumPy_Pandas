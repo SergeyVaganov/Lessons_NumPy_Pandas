{
 "cells": [
  {
   "cell_type": "markdown",
   "id": "7fe95437",
   "metadata": {},
   "source": [
    "# Тема “Вычисления с помощью Numpy”"
   ]
  },
  {
   "cell_type": "code",
   "execution_count": 2,
   "id": "5e46cb07",
   "metadata": {},
   "outputs": [],
   "source": [
    "import numpy as np"
   ]
  },
  {
   "cell_type": "markdown",
   "id": "3fa93170",
   "metadata": {},
   "source": [
    "## Задание 1\n",
    "\n",
    "Создайте массив Numpy под названием a размером 5x2, то есть состоящий из 5 строк и 2 столбцов. Первый столбец должен содержать числа 1, 2, 3, 3, 1, а второй - числа 6, 8, 11, 10, 7. Будем считать, что каждый столбец - это признак, а строка - наблюдение. \n",
    "Затем найдите среднее значение по каждому признаку, используя метод mean массива Numpy. Результат запишите в массив mean_a, в нем должно быть 2 элемента.\n"
   ]
  },
  {
   "cell_type": "code",
   "execution_count": 88,
   "id": "66e9c248",
   "metadata": {},
   "outputs": [
    {
     "name": "stdout",
     "output_type": "stream",
     "text": [
      "[[ 1  6]\n",
      " [ 2  8]\n",
      " [ 3 11]\n",
      " [ 3 10]\n",
      " [ 1  7]]\n",
      "Среднее значение по каждому признаку:  [2.  8.4]\n"
     ]
    }
   ],
   "source": [
    "a = np.array([[1,2,3,3,1],[6,8,11,10,7]] )\n",
    "a = a.transpose()\n",
    "mean_a = a.mean(axis=0)\n",
    "print(a)\n",
    "print('Среднее значение по каждому признаку: ', mean_a)"
   ]
  },
  {
   "cell_type": "markdown",
   "id": "f085082e",
   "metadata": {},
   "source": [
    "## Задание 2\n",
    "\n",
    "Вычислите массив a_centered, отняв от значений массива “а” средние значения соответствующих признаков, \n",
    "содержащиеся в массиве mean_a. Вычисление должно производиться в одно действие. \n",
    "Получившийся массив должен иметь размер 5x2.\n"
   ]
  },
  {
   "cell_type": "code",
   "execution_count": 20,
   "id": "da56468d",
   "metadata": {
    "scrolled": true
   },
   "outputs": [
    {
     "name": "stdout",
     "output_type": "stream",
     "text": [
      "[[-1.  -2.4]\n",
      " [ 0.  -0.4]\n",
      " [ 1.   2.6]\n",
      " [ 1.   1.6]\n",
      " [-1.  -1.4]]\n"
     ]
    }
   ],
   "source": [
    "a_centered = a - mean_a\n",
    "print(a_centered)"
   ]
  },
  {
   "cell_type": "markdown",
   "id": "49b37f9d",
   "metadata": {},
   "source": [
    "## Задание 3\n",
    "Найдите скалярное произведение столбцов массива a_centered. В результате должна получиться \n",
    "величина a_centered_sp. Затем поделите a_centered_sp на N-1, где N - число наблюдений.\n"
   ]
  },
  {
   "cell_type": "code",
   "execution_count": 89,
   "id": "0f6ab369",
   "metadata": {},
   "outputs": [
    {
     "name": "stdout",
     "output_type": "stream",
     "text": [
      "Ковариация: 2.0\n"
     ]
    }
   ],
   "source": [
    "a_centered_sp = a_centered[:,0] @ a_centered[:,1]\n",
    "cov = a_centered_sp / (a_centered.shape[0]-1)\n",
    "print('Ковариация:', cov)"
   ]
  },
  {
   "cell_type": "markdown",
   "id": "14645a94",
   "metadata": {},
   "source": [
    "## Задание 4**\n",
    "В этом задании проверьте получившееся число, вычислив ковариацию еще одним способом - \n",
    "с помощью функции np.cov.\n",
    "В получившейся ковариационной матрице (массив Numpy размером 2x2) искомое значение ковариации будет равно \n",
    "элементу в строке с индексом 0 и столбце с индексом 1."
   ]
  },
  {
   "cell_type": "code",
   "execution_count": 39,
   "id": "098d9515",
   "metadata": {},
   "outputs": [
    {
     "name": "stdout",
     "output_type": "stream",
     "text": [
      "[[1.  2. ]\n",
      " [2.  4.3]]\n"
     ]
    }
   ],
   "source": [
    "C = np.cov(a.transpose())\n",
    "print(C)"
   ]
  },
  {
   "cell_type": "markdown",
   "id": "31e0fc72",
   "metadata": {},
   "source": [
    "# Тема “Работа с данными в Pandas”"
   ]
  },
  {
   "cell_type": "code",
   "execution_count": 40,
   "id": "4ee5fc6f",
   "metadata": {},
   "outputs": [],
   "source": [
    "import pandas as pd"
   ]
  },
  {
   "cell_type": "markdown",
   "id": "75c41c70",
   "metadata": {},
   "source": [
    "## Задание 1\n",
    "Импортируйте библиотеку Pandas и дайте ей псевдоним pd. Создайте датафрейм authors со столбцами author_id \n",
    "и author_name, в которых соответственно содержатся данные: [1, 2, 3] и ['Тургенев', 'Чехов', 'Островский'].\n",
    "Затем создайте датафрейм book cо столбцами author_id, book_title и price, в которых соответственно содержатся \n",
    "данные:  \n",
    "[1, 1, 1, 2, 2, 3, 3],\n",
    "['Отцы и дети', 'Рудин', 'Дворянское гнездо', 'Толстый и тонкий', 'Дама с собачкой', 'Гроза', \n",
    "'Таланты и поклонники'],\n",
    "[450, 300, 350, 500, 450, 370, 290].\n"
   ]
  },
  {
   "cell_type": "code",
   "execution_count": 103,
   "id": "24de267d",
   "metadata": {},
   "outputs": [
    {
     "name": "stdout",
     "output_type": "stream",
     "text": [
      "DataFrame authors:\n",
      "    author_id author_name\n",
      "0          1    Тургенев\n",
      "1          2       Чехов\n",
      "2          3  Островский \n",
      "\n",
      "DataFrame book:\n",
      "    author_id            book_title  price\n",
      "0          1           Отцы и дети    450\n",
      "1          1                 Рудин    300\n",
      "2          1     Дворянское гнездо    350\n",
      "3          2      Толстый и тонкий    500\n",
      "4          2       Дама с собачкой    450\n",
      "5          3                 Гроза    370\n",
      "6          3  Таланты и поклонники    290\n"
     ]
    }
   ],
   "source": [
    "a = {\n",
    "    \"author_id\":[1, 2, 3],\n",
    "    \"author_name\":['Тургенев', 'Чехов', 'Островский']\n",
    "}\n",
    "authors = pd.DataFrame(a)\n",
    "print('DataFrame authors:\\n', authors, '\\n')\n",
    "\n",
    "b = {\n",
    "    \"author_id\":[1, 1, 1, 2, 2, 3, 3], \n",
    "    \"book_title\":['Отцы и дети', 'Рудин', 'Дворянское гнездо', \n",
    "                  'Толстый и тонкий', 'Дама с собачкой', 'Гроза', 'Таланты и поклонники'],\n",
    "    \"price\":[450, 300, 350, 500, 450, 370, 290]   \n",
    "}\n",
    "book = pd.DataFrame(b)\n",
    "print('DataFrame book:\\n',book)"
   ]
  },
  {
   "cell_type": "markdown",
   "id": "c9d05300",
   "metadata": {},
   "source": [
    "## Задание 2\n",
    "Получите датафрейм authors_price, соединив датафреймы authors и books по полю author_id.\n"
   ]
  },
  {
   "cell_type": "code",
   "execution_count": 102,
   "id": "14a768c7",
   "metadata": {},
   "outputs": [
    {
     "name": "stdout",
     "output_type": "stream",
     "text": [
      "DataFrame authors_price:\n",
      "    author_id author_name            book_title  price\n",
      "0          1    Тургенев           Отцы и дети    450\n",
      "1          1    Тургенев                 Рудин    300\n",
      "2          1    Тургенев     Дворянское гнездо    350\n",
      "3          2       Чехов      Толстый и тонкий    500\n",
      "4          2       Чехов       Дама с собачкой    450\n",
      "5          3  Островский                 Гроза    370\n",
      "6          3  Островский  Таланты и поклонники    290\n"
     ]
    }
   ],
   "source": [
    "authors_price = pd.merge(authors, book, on='author_id', how='inner')\n",
    "print('DataFrame authors_price:\\n', authors_price)"
   ]
  },
  {
   "cell_type": "markdown",
   "id": "5957cd56",
   "metadata": {},
   "source": [
    "## Задание 3\n",
    "Создайте датафрейм top5, в котором содержатся строки из authors_price с пятью самыми дорогими книгами.\n"
   ]
  },
  {
   "cell_type": "code",
   "execution_count": 97,
   "id": "f7bd9df9",
   "metadata": {},
   "outputs": [
    {
     "name": "stdout",
     "output_type": "stream",
     "text": [
      "DataFrame top5:\n",
      "    author_id author_name         book_title  price\n",
      "3          2       Чехов   Толстый и тонкий    500\n",
      "0          1    Тургенев        Отцы и дети    450\n",
      "4          2       Чехов    Дама с собачкой    450\n",
      "5          3  Островский              Гроза    370\n",
      "2          1    Тургенев  Дворянское гнездо    350\n"
     ]
    }
   ],
   "source": [
    "top5 = authors_price.nlargest(5, \"price\") \n",
    "print('DataFrame top5:\\n', top5)"
   ]
  },
  {
   "cell_type": "markdown",
   "id": "20ad47d4",
   "metadata": {},
   "source": [
    "## Задание 4\n",
    "Создайте датафрейм authors_stat на основе информации из authors_price. В датафрейме authors_stat должны \n",
    "быть четыре столбца:\n",
    "author_name, min_price, max_price и mean_price,\n",
    "в которых должны содержаться соответственно имя автора, минимальная, максимальная и средняя цена на книги \n",
    "этого автора.\n"
   ]
  },
  {
   "cell_type": "code",
   "execution_count": 100,
   "id": "7844c06c",
   "metadata": {},
   "outputs": [
    {
     "name": "stdout",
     "output_type": "stream",
     "text": [
      "DataFrame authors_stat:\n",
      "              min_price  max_price  mean_price\n",
      "author_name                                  \n",
      "Островский         290        370  330.000000\n",
      "Тургенев           300        450  366.666667\n",
      "Чехов              450        500  475.000000\n"
     ]
    }
   ],
   "source": [
    "authors_stat = authors_price.groupby('author_name').price.agg(min_price = 'min', \n",
    "                                                              max_price = 'max', \n",
    "                                                              mean_price = 'mean')\n",
    "print('DataFrame authors_stat:\\n', authors_stat)"
   ]
  },
  {
   "cell_type": "markdown",
   "id": "67d21e9a",
   "metadata": {},
   "source": [
    "## Задание 5**\n",
    "Создайте новый столбец в датафрейме authors_price под названием cover, в нем будут располагаться данные о том, \n",
    "какая обложка у данной книги - твердая или мягкая. В этот столбец поместите данные из следующего списка:\n",
    "['твердая', 'мягкая', 'мягкая', 'твердая', 'твердая', 'мягкая', 'мягкая'].\n",
    "Просмотрите документацию по функции pd.pivot_table с помощью вопросительного знака.Для каждого автора \n",
    "посчитайте суммарную стоимость книг в твердой и мягкой обложке. Используйте для этого функцию pd.pivot_table. \n",
    "При этом столбцы должны называться \"твердая\" и \"мягкая\", а индексами должны быть фамилии авторов. \n",
    "Пропущенные значения стоимостей заполните нулями, при необходимости загрузите библиотеку Numpy.\n",
    "Назовите полученный датасет book_info и сохраните его в формат pickle под названием \"book_info.pkl\". \n",
    "Затем загрузите из этого файла датафрейм и назовите его book_info2. Удостоверьтесь, что датафреймы \n",
    "book_info и book_info2 идентичны.\n"
   ]
  },
  {
   "cell_type": "code",
   "execution_count": 115,
   "id": "9e3ffbc6",
   "metadata": {},
   "outputs": [
    {
     "name": "stdout",
     "output_type": "stream",
     "text": [
      "   author_id author_name            book_title  price    cover\n",
      "0          1    Тургенев           Отцы и дети    450  твердая\n",
      "1          1    Тургенев                 Рудин    300   мягкая\n",
      "2          1    Тургенев     Дворянское гнездо    350   мягкая\n",
      "3          2       Чехов      Толстый и тонкий    500  твердая\n",
      "4          2       Чехов       Дама с собачкой    450  твердая\n",
      "5          3  Островский                 Гроза    370   мягкая\n",
      "6          3  Островский  Таланты и поклонники    290   мягкая \n",
      "\n",
      "DataFrame book_info:\n",
      " cover        мягкая  твердая\n",
      "author_name                 \n",
      "Островский      660        0\n",
      "Тургенев        650      450\n",
      "Чехов             0      950\n",
      "\n",
      "DataFrame book_info2:\n",
      " cover        мягкая  твердая\n",
      "author_name                 \n",
      "Островский      660        0\n",
      "Тургенев        650      450\n",
      "Чехов             0      950\n",
      "\n",
      "Сравнение DataFrame: book_info и book_info2\n",
      " cover        мягкая  твердая\n",
      "author_name                 \n",
      "Островский     True     True\n",
      "Тургенев       True     True\n",
      "Чехов          True     True\n"
     ]
    }
   ],
   "source": [
    "cover =  ['твердая', 'мягкая', 'мягкая', 'твердая', 'твердая', 'мягкая', 'мягкая']\n",
    "authors_price['cover'] = cover\n",
    "print(authors_price, '\\n')\n",
    "book_info = pd.pivot_table(authors_price, index='author_name', columns='cover', \n",
    "                           values='price', aggfunc=np.sum, fill_value = 0,)\n",
    "print('DataFrame book_info:\\n', book_info)\n",
    "book_info.to_pickle(\"book_info.pkl\")\n",
    "book_info2 = pd.read_pickle(\"book_info.pkl\")\n",
    "print('\\nDataFrame book_info2:\\n', book_info2)\n",
    "print('\\nСравнение DataFrame: book_info и book_info2\\n', book_info2==book_info)"
   ]
  },
  {
   "cell_type": "code",
   "execution_count": null,
   "id": "74b0e1b9",
   "metadata": {},
   "outputs": [],
   "source": []
  }
 ],
 "metadata": {
  "kernelspec": {
   "display_name": "Python 3",
   "language": "python",
   "name": "python3"
  },
  "language_info": {
   "codemirror_mode": {
    "name": "ipython",
    "version": 3
   },
   "file_extension": ".py",
   "mimetype": "text/x-python",
   "name": "python",
   "nbconvert_exporter": "python",
   "pygments_lexer": "ipython3",
   "version": "3.8.8"
  }
 },
 "nbformat": 4,
 "nbformat_minor": 5
}
